{
 "cells": [
  {
   "cell_type": "markdown",
   "id": "39724b01-e27d-4b9f-b506-8767841e78a7",
   "metadata": {},
   "source": [
    "![img](img.jpg)\n"
   ]
  },
  {
   "cell_type": "markdown",
   "id": "2d915951-4dbd-49ac-bc0d-8ae3df53f586",
   "metadata": {},
   "source": [
    "You are a junior developer working in a small start-up. Your managers have asked you to develop a new account registration system for a mobile app. The system must validate user input on the sign-up form before creating an account. \n",
    "\n",
    "The previous junior developer wrote some helper functions that validate the name, email, and password. Use these functions to register users, store their data, and implement some error handling! These have been imported into the workspace for you. They will be a great help to you when registering the user, but first you have to understand what the function does! Inspect the docstrings of each of the helper functions: `validate_name`, `validate_email` and `validate_password`."
   ]
  },
  {
   "cell_type": "code",
   "execution_count": 13,
   "id": "89e2bca9-7ff6-4259-b33a-a85607997083",
   "metadata": {
    "executionCancelledAt": null,
    "executionTime": 53,
    "lastExecutedAt": 1742122038325,
    "lastExecutedByKernel": "5de7df46-d162-45d1-b59f-c5d742555ffb",
    "lastScheduledRunId": null,
    "lastSuccessfullyExecutedCode": "# Re-run this cell and examine the docstring of each function\nfrom python_functions import validate_name, validate_email, validate_password, top_level_domains\n\nprint(\"validate_name\\n\")\nprint(validate_name.__doc__)\nprint(\"--------------------\\n\")\n\nprint(\"validate_email\\n\")\nprint(validate_email.__doc__) \nprint(\"--------------------\\n\")\n\nprint(\"validate_password\\n\")\nprint(validate_password.__doc__)\n\n# The top level domains variable is used in validate_email to approve only certain email domains\nprint(top_level_domains)",
    "outputsMetadata": {
     "0": {
      "height": 616,
      "type": "stream"
     }
    }
   },
   "outputs": [],
   "source": [
    "from validation_functions import *# validate_name, validate_email, validate_password, top_level_domains, validate_user, register_user"
   ]
  },
  {
   "cell_type": "code",
   "execution_count": 14,
   "id": "3970969b-8c28-4a2f-b3db-e973e1c9a2fc",
   "metadata": {
    "executionCancelledAt": null,
    "executionTime": 56,
    "lastExecutedAt": 1742122038381,
    "lastExecutedByKernel": "5de7df46-d162-45d1-b59f-c5d742555ffb",
    "lastScheduledRunId": null,
    "lastSuccessfullyExecutedCode": "def validate_user(name, email, password):\n    \"\"\"Verifies user\n    \n    Args: \n    \tname: user name\n        email: user email\n        password: user password\n    \n    Returns: \n    \tbool: True in case valid name, valid email address and strong enough password\n    \n    \"\"\"\n    if validate_name(name) == False:\n        raise ValueError(\"Invalid name\")\n    if validate_email(email) == False:\n        raise ValueError(\"Invalid email address\")\n    if validate_password(password) == False:\n        raise ValueError(\"Too weak password\")\n    return True\n    \ndef register_user(name, email, password):\n    validate_user(name, email, password)\n    try:\n        user = {\"name\": name, \"email\": email, \"password\": password}\n        return user\n    except ValueError:\n        return False\n    "
   },
   "outputs": [],
   "source": [
    "def validate_user(username, email, password):\n",
    "    \"\"\"Verifies user\n",
    "    \n",
    "    Args: \n",
    "    \tname: user name\n",
    "        email: user email\n",
    "        password: user password\n",
    "    \n",
    "    Returns: \n",
    "    \tbool: True in case valid name, valid email address and strong enough password\n",
    "    \n",
    "    \"\"\"\n",
    "    if email in registered_users:\n",
    "        raise ValueError(\"This email is already registered\")\n",
    "    if validate_username(username) == False:\n",
    "        raise ValueError(\"Invalid username\")\n",
    "    if validate_email(email) == False:\n",
    "        raise ValueError(\"Invalid email address\")\n",
    "    if validate_password(password) == False:\n",
    "        raise ValueError(\"Too weak password\")\n",
    "    return True\n",
    "    \n",
    "def register_user(username, email, password):\n",
    "    validate_user(username, email, password)\n",
    "    try:\n",
    "        \n",
    "        user = {\"username\": username, \"email\": email, \"password\": password}\n",
    "        registered_users.append(user[\"email\"])\n",
    "        return user\n",
    "    except:\n",
    "        return False\n",
    "    \n",
    "       \n",
    "    \n",
    "    "
   ]
  },
  {
   "cell_type": "code",
   "execution_count": 15,
   "id": "05f8c17e-84b8-420c-84f1-af7015efbc8e",
   "metadata": {
    "executionCancelledAt": null,
    "executionTime": 12,
    "lastExecutedAt": 1742122055575,
    "lastExecutedByKernel": "5de7df46-d162-45d1-b59f-c5d742555ffb",
    "lastScheduledRunId": null,
    "lastSuccessfullyExecutedCode": "# Start coding here\n# Valid user\nregister_user(\"hieu\", \"hieuminhle2k@gmail.com\", \"A1234567\")"
   },
   "outputs": [
    {
     "name": "stdout",
     "output_type": "stream",
     "text": [
      "['hieu@gmail.com', 'hugh@gmail.com', 'hugo@gmail.com', 'duke@gmail.com', 'anna@gmail.com']\n"
     ]
    }
   ],
   "source": [
    "# Start coding here\n",
    "# Valid user\n",
    "\n",
    "register_user(\"hieu\", \"hieu@gmail.com\", \"A1234567\")\n",
    "register_user(\"hugh\", \"hugh@gmail.com\", \"A1234567\")\n",
    "register_user(\"hugo\", \"hugo@gmail.com\", \"A1234567\")\n",
    "register_user(\"duke\", \"duke@gmail.com\", \"A1234567\")\n",
    "register_user(\"anna\", \"anna@gmail.com\", \"A1234567\")\n",
    "print(registered_users)"
   ]
  },
  {
   "cell_type": "code",
   "execution_count": 16,
   "id": "5a0a99f2",
   "metadata": {},
   "outputs": [
    {
     "name": "stdout",
     "output_type": "stream",
     "text": [
      "['hieu@gmail.com', 'hugh@gmail.com', 'hugo@gmail.com', 'duke@gmail.com', 'anna@gmail.com']\n"
     ]
    }
   ],
   "source": [
    "#registered_users.clear()\n",
    "print(registered_users)"
   ]
  },
  {
   "cell_type": "markdown",
   "id": "7e7499de",
   "metadata": {},
   "source": [
    "Exceptions"
   ]
  },
  {
   "cell_type": "code",
   "execution_count": 17,
   "id": "ff96b552",
   "metadata": {},
   "outputs": [
    {
     "ename": "ValueError",
     "evalue": "This email is already registered",
     "output_type": "error",
     "traceback": [
      "\u001b[1;31m---------------------------------------------------------------------------\u001b[0m",
      "\u001b[1;31mValueError\u001b[0m                                Traceback (most recent call last)",
      "Input \u001b[1;32mIn [17]\u001b[0m, in \u001b[0;36m<cell line: 2>\u001b[1;34m()\u001b[0m\n\u001b[0;32m      1\u001b[0m \u001b[38;5;66;03m# Email is already registered\u001b[39;00m\n\u001b[1;32m----> 2\u001b[0m \u001b[43mregister_user\u001b[49m\u001b[43m(\u001b[49m\u001b[38;5;124;43m\"\u001b[39;49m\u001b[38;5;124;43mhieu\u001b[39;49m\u001b[38;5;124;43m\"\u001b[39;49m\u001b[43m,\u001b[49m\u001b[43m \u001b[49m\u001b[38;5;124;43m\"\u001b[39;49m\u001b[38;5;124;43mhieu@gmail.com\u001b[39;49m\u001b[38;5;124;43m\"\u001b[39;49m\u001b[43m,\u001b[49m\u001b[43m \u001b[49m\u001b[38;5;124;43m\"\u001b[39;49m\u001b[38;5;124;43mA1234567\u001b[39;49m\u001b[38;5;124;43m\"\u001b[39;49m\u001b[43m)\u001b[49m\n",
      "Input \u001b[1;32mIn [14]\u001b[0m, in \u001b[0;36mregister_user\u001b[1;34m(username, email, password)\u001b[0m\n\u001b[0;32m     23\u001b[0m \u001b[38;5;28;01mdef\u001b[39;00m \u001b[38;5;21mregister_user\u001b[39m(username, email, password):\n\u001b[1;32m---> 24\u001b[0m     \u001b[43mvalidate_user\u001b[49m\u001b[43m(\u001b[49m\u001b[43musername\u001b[49m\u001b[43m,\u001b[49m\u001b[43m \u001b[49m\u001b[43memail\u001b[49m\u001b[43m,\u001b[49m\u001b[43m \u001b[49m\u001b[43mpassword\u001b[49m\u001b[43m)\u001b[49m\n\u001b[0;32m     25\u001b[0m     \u001b[38;5;28;01mtry\u001b[39;00m:\n\u001b[0;32m     27\u001b[0m         user \u001b[38;5;241m=\u001b[39m {\u001b[38;5;124m\"\u001b[39m\u001b[38;5;124musername\u001b[39m\u001b[38;5;124m\"\u001b[39m: username, \u001b[38;5;124m\"\u001b[39m\u001b[38;5;124memail\u001b[39m\u001b[38;5;124m\"\u001b[39m: email, \u001b[38;5;124m\"\u001b[39m\u001b[38;5;124mpassword\u001b[39m\u001b[38;5;124m\"\u001b[39m: password}\n",
      "Input \u001b[1;32mIn [14]\u001b[0m, in \u001b[0;36mvalidate_user\u001b[1;34m(username, email, password)\u001b[0m\n\u001b[0;32m      2\u001b[0m \u001b[38;5;250m\u001b[39m\u001b[38;5;124;03m\"\"\"Verifies user\u001b[39;00m\n\u001b[0;32m      3\u001b[0m \u001b[38;5;124;03m\u001b[39;00m\n\u001b[0;32m      4\u001b[0m \u001b[38;5;124;03mArgs: \u001b[39;00m\n\u001b[1;32m   (...)\u001b[0m\n\u001b[0;32m     11\u001b[0m \u001b[38;5;124;03m\u001b[39;00m\n\u001b[0;32m     12\u001b[0m \u001b[38;5;124;03m\"\"\"\u001b[39;00m\n\u001b[0;32m     13\u001b[0m \u001b[38;5;28;01mif\u001b[39;00m email \u001b[38;5;129;01min\u001b[39;00m registered_users:\n\u001b[1;32m---> 14\u001b[0m     \u001b[38;5;28;01mraise\u001b[39;00m \u001b[38;5;167;01mValueError\u001b[39;00m(\u001b[38;5;124m\"\u001b[39m\u001b[38;5;124mThis email is already registered\u001b[39m\u001b[38;5;124m\"\u001b[39m)\n\u001b[0;32m     15\u001b[0m \u001b[38;5;28;01mif\u001b[39;00m validate_username(username) \u001b[38;5;241m==\u001b[39m \u001b[38;5;28;01mFalse\u001b[39;00m:\n\u001b[0;32m     16\u001b[0m     \u001b[38;5;28;01mraise\u001b[39;00m \u001b[38;5;167;01mValueError\u001b[39;00m(\u001b[38;5;124m\"\u001b[39m\u001b[38;5;124mInvalid username\u001b[39m\u001b[38;5;124m\"\u001b[39m)\n",
      "\u001b[1;31mValueError\u001b[0m: This email is already registered"
     ]
    }
   ],
   "source": [
    "# Email is already registered\n",
    "register_user(\"hieu\", \"hieu@gmail.com\", \"A1234567\")"
   ]
  },
  {
   "cell_type": "code",
   "execution_count": null,
   "id": "78efc5a9-0304-4876-8028-be41b1990bc8",
   "metadata": {
    "executionCancelledAt": null,
    "executionTime": 52,
    "lastExecutedAt": 1742122057142,
    "lastExecutedByKernel": "5de7df46-d162-45d1-b59f-c5d742555ffb",
    "lastScheduledRunId": null,
    "lastSuccessfullyExecutedCode": "# Invalid name\nregister_user(\"1\", \"hieuminhle2k@gmail.com\", \"A1234567\")"
   },
   "outputs": [
    {
     "ename": "ValueError",
     "evalue": "Invalid username",
     "output_type": "error",
     "traceback": [
      "\u001b[1;31m---------------------------------------------------------------------------\u001b[0m",
      "\u001b[1;31mValueError\u001b[0m                                Traceback (most recent call last)",
      "Input \u001b[1;32mIn [11]\u001b[0m, in \u001b[0;36m<cell line: 2>\u001b[1;34m()\u001b[0m\n\u001b[0;32m      1\u001b[0m \u001b[38;5;66;03m# Invalid name\u001b[39;00m\n\u001b[1;32m----> 2\u001b[0m \u001b[43mregister_user\u001b[49m\u001b[43m(\u001b[49m\u001b[38;5;124;43m\"\u001b[39;49m\u001b[38;5;124;43m1\u001b[39;49m\u001b[38;5;124;43m\"\u001b[39;49m\u001b[43m,\u001b[49m\u001b[43m \u001b[49m\u001b[38;5;124;43m\"\u001b[39;49m\u001b[38;5;124;43mhieuminhle2k@gmail.com\u001b[39;49m\u001b[38;5;124;43m\"\u001b[39;49m\u001b[43m,\u001b[49m\u001b[43m \u001b[49m\u001b[38;5;124;43m\"\u001b[39;49m\u001b[38;5;124;43mA1234567\u001b[39;49m\u001b[38;5;124;43m\"\u001b[39;49m\u001b[43m)\u001b[49m\n",
      "Input \u001b[1;32mIn [7]\u001b[0m, in \u001b[0;36mregister_user\u001b[1;34m(username, email, password)\u001b[0m\n\u001b[0;32m     23\u001b[0m \u001b[38;5;28;01mdef\u001b[39;00m \u001b[38;5;21mregister_user\u001b[39m(username, email, password):\n\u001b[1;32m---> 24\u001b[0m     \u001b[43mvalidate_user\u001b[49m\u001b[43m(\u001b[49m\u001b[43musername\u001b[49m\u001b[43m,\u001b[49m\u001b[43m \u001b[49m\u001b[43memail\u001b[49m\u001b[43m,\u001b[49m\u001b[43m \u001b[49m\u001b[43mpassword\u001b[49m\u001b[43m)\u001b[49m\n\u001b[0;32m     25\u001b[0m     \u001b[38;5;28;01mtry\u001b[39;00m:\n\u001b[0;32m     27\u001b[0m         user \u001b[38;5;241m=\u001b[39m {\u001b[38;5;124m\"\u001b[39m\u001b[38;5;124musername\u001b[39m\u001b[38;5;124m\"\u001b[39m: username, \u001b[38;5;124m\"\u001b[39m\u001b[38;5;124memail\u001b[39m\u001b[38;5;124m\"\u001b[39m: email, \u001b[38;5;124m\"\u001b[39m\u001b[38;5;124mpassword\u001b[39m\u001b[38;5;124m\"\u001b[39m: password}\n",
      "Input \u001b[1;32mIn [7]\u001b[0m, in \u001b[0;36mvalidate_user\u001b[1;34m(username, email, password)\u001b[0m\n\u001b[0;32m     14\u001b[0m     \u001b[38;5;28;01mraise\u001b[39;00m \u001b[38;5;167;01mValueError\u001b[39;00m(\u001b[38;5;124m\"\u001b[39m\u001b[38;5;124mThis email is already registered\u001b[39m\u001b[38;5;124m\"\u001b[39m)\n\u001b[0;32m     15\u001b[0m \u001b[38;5;28;01mif\u001b[39;00m validate_username(username) \u001b[38;5;241m==\u001b[39m \u001b[38;5;28;01mFalse\u001b[39;00m:\n\u001b[1;32m---> 16\u001b[0m     \u001b[38;5;28;01mraise\u001b[39;00m \u001b[38;5;167;01mValueError\u001b[39;00m(\u001b[38;5;124m\"\u001b[39m\u001b[38;5;124mInvalid username\u001b[39m\u001b[38;5;124m\"\u001b[39m)\n\u001b[0;32m     17\u001b[0m \u001b[38;5;28;01mif\u001b[39;00m validate_email(email) \u001b[38;5;241m==\u001b[39m \u001b[38;5;28;01mFalse\u001b[39;00m:\n\u001b[0;32m     18\u001b[0m     \u001b[38;5;28;01mraise\u001b[39;00m \u001b[38;5;167;01mValueError\u001b[39;00m(\u001b[38;5;124m\"\u001b[39m\u001b[38;5;124mInvalid email address\u001b[39m\u001b[38;5;124m\"\u001b[39m)\n",
      "\u001b[1;31mValueError\u001b[0m: Invalid username"
     ]
    }
   ],
   "source": [
    "# Invalid name\n",
    "register_user(\"1\", \"hieuminhle2k@gmail.com\", \"A1234567\")"
   ]
  },
  {
   "cell_type": "code",
   "execution_count": null,
   "id": "9657f269-1b04-4da3-9b8a-7d637786b1a9",
   "metadata": {
    "executionCancelledAt": null,
    "executionTime": 40,
    "lastExecutedAt": 1742122059661,
    "lastExecutedByKernel": "5de7df46-d162-45d1-b59f-c5d742555ffb",
    "lastScheduledRunId": null,
    "lastSuccessfullyExecutedCode": "# Invalid email address\nregister_user(\"hieu\", \"hieuminhle2k@gmail.de\", \"A1234567\")"
   },
   "outputs": [
    {
     "data": {
      "text/plain": [
       "False"
      ]
     },
     "execution_count": 266,
     "metadata": {},
     "output_type": "execute_result"
    }
   ],
   "source": [
    "# Invalid email address\n",
    "register_user(\"hieu\", \"hieuminhle2k@gmail.de\", \"A1234567\")"
   ]
  },
  {
   "cell_type": "code",
   "execution_count": null,
   "id": "93e46a74-610a-47c4-b640-d236b3937a89",
   "metadata": {
    "executionCancelledAt": null,
    "executionTime": 52,
    "lastExecutedAt": 1742122061826,
    "lastExecutedByKernel": "5de7df46-d162-45d1-b59f-c5d742555ffb",
    "lastScheduledRunId": null,
    "lastSuccessfullyExecutedCode": "# Too weak password\nregister_user(\"hieu\", \"hieuminhle2k@gmail.com\", \"1234567\")"
   },
   "outputs": [
    {
     "data": {
      "text/plain": [
       "False"
      ]
     },
     "execution_count": 267,
     "metadata": {},
     "output_type": "execute_result"
    }
   ],
   "source": [
    "# Too weak password\n",
    "register_user(\"hieu\", \"hieuminhle2k@gmail.com\", \"1234567\")"
   ]
  },
  {
   "cell_type": "code",
   "execution_count": null,
   "id": "1abcd571",
   "metadata": {},
   "outputs": [],
   "source": []
  }
 ],
 "metadata": {
  "editor": "DataCamp Workspace",
  "kernelspec": {
   "display_name": "base",
   "language": "python",
   "name": "python3"
  },
  "language_info": {
   "codemirror_mode": {
    "name": "ipython",
    "version": 3
   },
   "file_extension": ".py",
   "mimetype": "text/x-python",
   "name": "python",
   "nbconvert_exporter": "python",
   "pygments_lexer": "ipython3",
   "version": "3.9.12"
  }
 },
 "nbformat": 4,
 "nbformat_minor": 5
}
